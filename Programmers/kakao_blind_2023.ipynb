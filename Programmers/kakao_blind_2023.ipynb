{
 "cells": [
  {
   "cell_type": "markdown",
   "metadata": {},
   "source": []
  },
  {
   "cell_type": "code",
   "execution_count": null,
   "metadata": {},
   "outputs": [],
   "source": [
    "def solution(today, terms, privacies):\n",
    "    answer = []\n",
    "    today = today.split(\".\")\n",
    "    # print(today)\n",
    "    # data split\n",
    "    terms_dict = {term[:term.index(\" \")]:int(term[term.index(\" \")+1:]) for term in terms}\n",
    "    # print(terms_dict)\n",
    "\n",
    "    privtermcies_dict = {privacie[:privacie.index(\" \")]:privacie[privacie.index(\" \")+1:] for privacie in privacies}\n",
    "    # print(privtermcies_dict)\n",
    "\n",
    "    answer_count = 1\n",
    "    \n",
    "    for key,value in privtermcies_dict.items():\n",
    "        \n",
    "        # print(key,terms_dict[value])\n",
    "        # pass\n",
    "        temp_list = key.split(\".\")\n",
    "        temp_list[1] = int(temp_list[1])+terms_dict[value]\n",
    "        if temp_list[1] > 12:\n",
    "            temp_list[0] = str(int(temp_list[0])+1)\n",
    "            temp_list[1] = temp_list[1] - 13\n",
    "            if temp_list[1] == 0:\n",
    "                temp_list[1] = 1\n",
    "        if temp_list[1] < 10:\n",
    "            temp_list[1] = \"0\"+str(temp_list[1])\n",
    "        else :\n",
    "            temp_list[1] = str(temp_list[1])\n",
    "        temp_list[2] = int(temp_list[2]) - 1\n",
    "        if temp_list[2] == 0 :\n",
    "            temp_list[2] = \"28\"\n",
    "        else :\n",
    "            temp_list[2] = str(temp_list[2])\n",
    "        # print(temp_list)\n",
    "\n",
    "        if (int(temp_list[0]) < int(today[0])) or  (int(temp_list[1]) < int(today[1])) or (int(temp_list[2]) < int(today[2])):\n",
    "            answer.append(answer_count)\n",
    "        answer_count+=1\n",
    "\n",
    "    # validation\n",
    "    return answer"
   ]
  }
 ],
 "metadata": {
  "kernelspec": {
   "display_name": "Python 3.9.11 64-bit (system)",
   "language": "python",
   "name": "python3"
  },
  "language_info": {
   "name": "python",
   "version": "3.9.11"
  },
  "orig_nbformat": 4,
  "vscode": {
   "interpreter": {
    "hash": "f9628f48af3087d06ee86ae2e1a0e20e6bad7ee2efe04515e5131dc7d7935ed8"
   }
  }
 },
 "nbformat": 4,
 "nbformat_minor": 2
}
