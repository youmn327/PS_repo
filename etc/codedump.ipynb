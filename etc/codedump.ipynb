{
 "cells": [
  {
   "cell_type": "code",
   "execution_count": null,
   "metadata": {},
   "outputs": [],
   "source": [
    "X = int(input())\n",
    "N = [64]\n",
    "while True:\n",
    "    if X > sum(N):\n",
    "        N.append(N[0]//2)\n",
    "        N //= 2\n",
    "        N_list.append(N)\n",
    "        if X >="
   ]
  },
  {
   "cell_type": "code",
   "execution_count": null,
   "metadata": {},
   "outputs": [],
   "source": [
    "n,m = map(int,input().split())\n",
    "\n",
    "number_lst = list(map(int,input().split()))\n",
    "number_len = len(number_lst)\n",
    "total_count = 0\n",
    "\n",
    "def refact(a):\n",
    "    print(a)\n",
    "    if a == number_len:\n",
    "        return \n",
    "    return number_lst[a]+refact(a+1)\n",
    "\n",
    "for i in range(len(number_lst)):\n",
    "    number_sum = refact(i)\n",
    "    if number_sum == m:\n",
    "        total_count+=1"
   ]
  },
  {
   "cell_type": "code",
   "execution_count": null,
   "metadata": {},
   "outputs": [],
   "source": [
    "# 1475\n",
    "n = input()\n",
    "lst = {str(i):0 for i in range(0,9)}\n",
    "n = list(n)\n",
    "p = 0\n",
    "while n is not None:\n",
    "    if n[p] in lst:\n",
    "        del lst[lst.index(n[p])]\n",
    "        \n",
    "\n",
    "    if n[p] in lst:\n",
    "        del lst[lst.index(n[p])]"
   ]
  }
 ],
 "metadata": {
  "kernelspec": {
   "display_name": "Python 3.9.11 64-bit (system)",
   "language": "python",
   "name": "python3"
  },
  "language_info": {
   "name": "python",
   "version": "3.9.11"
  },
  "orig_nbformat": 4,
  "vscode": {
   "interpreter": {
    "hash": "f9628f48af3087d06ee86ae2e1a0e20e6bad7ee2efe04515e5131dc7d7935ed8"
   }
  }
 },
 "nbformat": 4,
 "nbformat_minor": 2
}
